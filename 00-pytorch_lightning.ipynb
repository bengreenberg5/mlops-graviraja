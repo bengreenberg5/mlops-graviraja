{
 "cells": [
  {
   "cell_type": "code",
   "execution_count": 1,
   "id": "e42531ea",
   "metadata": {},
   "outputs": [],
   "source": [
    "from datasets import load_dataset\n",
    "from sklearn.metrics import accuracy_score\n",
    "from transformers import AutoModel, AutoTokenizer\n",
    "import torch\n",
    "import pytorch_lightning as pl"
   ]
  },
  {
   "cell_type": "code",
   "execution_count": 2,
   "id": "d09c76f4",
   "metadata": {},
   "outputs": [
    {
     "name": "stderr",
     "output_type": "stream",
     "text": [
      "Reusing dataset glue (/home/ben/.cache/huggingface/datasets/glue/cola/1.0.0/dacbe3125aa31d7f70367a07a8a9e72a5a0bfeb5fc42e75c9db75b96da6053ad)\n"
     ]
    },
    {
     "data": {
      "application/vnd.jupyter.widget-view+json": {
       "model_id": "c598f250d4c4411e93e47a270fea2a3e",
       "version_major": 2,
       "version_minor": 0
      },
      "text/plain": [
       "  0%|          | 0/3 [00:00<?, ?it/s]"
      ]
     },
     "metadata": {},
     "output_type": "display_data"
    },
    {
     "data": {
      "text/plain": [
       "DatasetDict({\n",
       "    train: Dataset({\n",
       "        features: ['sentence', 'label', 'idx'],\n",
       "        num_rows: 8551\n",
       "    })\n",
       "    validation: Dataset({\n",
       "        features: ['sentence', 'label', 'idx'],\n",
       "        num_rows: 1043\n",
       "    })\n",
       "    test: Dataset({\n",
       "        features: ['sentence', 'label', 'idx'],\n",
       "        num_rows: 1063\n",
       "    })\n",
       "})"
      ]
     },
     "execution_count": 2,
     "metadata": {},
     "output_type": "execute_result"
    }
   ],
   "source": [
    "# corpus of linguistic acceptability\n",
    "cola_dataset = load_dataset(\"glue\", \"cola\")\n",
    "cola_dataset"
   ]
  },
  {
   "cell_type": "code",
   "execution_count": 3,
   "id": "9559fda1",
   "metadata": {},
   "outputs": [
    {
     "name": "stdout",
     "output_type": "stream",
     "text": [
      "{'sentence': 'The more he reads, the more books I wonder to whom he will give.', 'label': 0, 'idx': 200}\n",
      "{'sentence': 'The more he reads, the more people I wonder what he will give to.', 'label': 0, 'idx': 201}\n",
      "{'sentence': 'The sooner you call, the more carefully I know a man that will word the letter.', 'label': 0, 'idx': 202}\n",
      "{'sentence': 'The richer John gets, the more geniuses John meets.', 'label': 1, 'idx': 203}\n",
      "{'sentence': 'The richer he gets, the more John meets geniuses.', 'label': 0, 'idx': 204}\n",
      "{'sentence': 'The more articles he reads, the fewer people he thinks will go into linguistics.', 'label': 1, 'idx': 205}\n",
      "{'sentence': 'The more articles he reads, the fewer people he thinks that will go into linguistics.', 'label': 0, 'idx': 206}\n",
      "{'sentence': 'The more articles he reads, the fewer people he thinks that under the current circumstances will go into linguistics.', 'label': 1, 'idx': 207}\n",
      "{'sentence': 'The more articles he reads, the fewer people he thinks under the current circumstances will go into linguistics.', 'label': 1, 'idx': 208}\n",
      "{'sentence': 'The more people that arrive, the louder that it gets.', 'label': 1, 'idx': 209}\n"
     ]
    }
   ],
   "source": [
    "for i in range(200, 210):\n",
    "    print(cola_dataset[\"train\"][i])"
   ]
  },
  {
   "cell_type": "code",
   "execution_count": 4,
   "id": "cbf784fd",
   "metadata": {},
   "outputs": [],
   "source": [
    "class COLADataModule(pl.LightningDataModule):\n",
    "    \n",
    "    def __init__(self, model_name, batch_size=32):\n",
    "        super().__init__()\n",
    "        self.model_name = model_name\n",
    "        self.batch_size = batch_size\n",
    "        datasets = load_dataset(\"glue\", \"cola\")\n",
    "        self.train_data = datasets[\"train\"]\n",
    "        self.valid_data = datasets[\"validation\"]\n",
    "        self.tokenizer = AutoTokenizer.from_pretrained(model_name)\n",
    "        \n",
    "    def tokenize(self, sentence):\n",
    "        return self.tokenizer(\n",
    "            sentence[\"sentence\"],\n",
    "            truncation=True,\n",
    "            padding=\"max_length\",\n",
    "            max_length=256,\n",
    "        )\n",
    "    \n",
    "    def setup(self, stage=None):\n",
    "        self.train_data = self.train_data.map(self.tokenize, batched=True)\n",
    "        self.valid_data = self.valid_data.map(self.tokenize, batched=True)\n",
    "        self.train_data.set_format(\n",
    "            type=\"torch\", columns=[\"input_ids\", \"attention_mask\", \"label\"]\n",
    "        )\n",
    "        self.valid_data.set_format(\n",
    "            type=\"torch\", columns=[\"input_ids\", \"attention_mask\", \"label\"]\n",
    "        )\n",
    "    \n",
    "    def train_dataloader(self):\n",
    "        return torch.utils.data.DataLoader(self.train_data, batch_size=self.batch_size, shuffle=True)\n",
    "    \n",
    "    def valid_dataloader(self):\n",
    "        return torch.utils.data.DataLoader(self.valid_data, batch_size=self.batch_size, shuffle=True)"
   ]
  },
  {
   "cell_type": "code",
   "execution_count": 5,
   "id": "9d7bec37",
   "metadata": {},
   "outputs": [],
   "source": [
    "class COLAModel(pl.LightningModule):\n",
    "    \n",
    "    def __init__(self, model_name, lr=1e-2):\n",
    "        super().__init__()\n",
    "        self.save_hyperparameters()\n",
    "        self.model_name = model_name\n",
    "        self.lr = lr\n",
    "        self.lm = AutoModel.from_pretrained(model_name)\n",
    "        self.final_layer = torch.nn.Linear(self.lm.config.hidden_size, 2)\n",
    "        self.num_classes = 2\n",
    "        \n",
    "    def forward(self, input_ids, attention_mask):\n",
    "        embeddings = self.lm(input_ids=input_ids, attention_mask=attention_mask)\n",
    "        last_hidden_state = embeddings.last_hidden_state[:, 0]  # classifier token\n",
    "        logits = self.final_layer(last_hidden_state)\n",
    "        return logits\n",
    "    \n",
    "    def training_step(self, batch, batch_idx):\n",
    "        logits = self.forward(batch[\"input_ids\"], batch[\"attention_mask\"])\n",
    "        loss = torch.nn.functional.cross_entropy(logits, batch[\"label\"])\n",
    "        self.log(\"train_loss\", loss, prog_bar=True)\n",
    "        return loss\n",
    "    \n",
    "    def validation_step(self, batch, batch_idx):\n",
    "        logits = self.forward(batch[\"input_ids\"], batch[\"attention_mask\"])\n",
    "        loss = torch.nn.functional.cross_entropy(logits, batch[\"label\"])\n",
    "        _, preds = torch.max(logits, dim=1)\n",
    "        val_acc = accuracy_score(preds.cpu(), batch[\"label\"].cpu())\n",
    "        val_acc = torch.tensor(val_acc)\n",
    "        self.log(\"valid_loss\", loss, prog_bar=True)\n",
    "        self.log(\"valid_acc\", val_acc, prog_bar=True)\n",
    "    \n",
    "    def test_step(self, batch, batch_idx):\n",
    "        return self.validation_step(batch, batch_idx)\n",
    "    \n",
    "    def configure_optimizers(self):\n",
    "        return torch.optim.Adam(self.parameters(), lr=self.hparams[\"lr\"])"
   ]
  },
  {
   "cell_type": "code",
   "execution_count": 6,
   "id": "5ab1e0f3",
   "metadata": {},
   "outputs": [
    {
     "name": "stderr",
     "output_type": "stream",
     "text": [
      "Reusing dataset glue (/home/ben/.cache/huggingface/datasets/glue/cola/1.0.0/dacbe3125aa31d7f70367a07a8a9e72a5a0bfeb5fc42e75c9db75b96da6053ad)\n"
     ]
    },
    {
     "data": {
      "application/vnd.jupyter.widget-view+json": {
       "model_id": "901609a4895b4b0bb5ca1deac5b08727",
       "version_major": 2,
       "version_minor": 0
      },
      "text/plain": [
       "  0%|          | 0/3 [00:00<?, ?it/s]"
      ]
     },
     "metadata": {},
     "output_type": "display_data"
    },
    {
     "name": "stderr",
     "output_type": "stream",
     "text": [
      "Some weights of the model checkpoint at google/bert_uncased_L-2_H-128_A-2 were not used when initializing BertModel: ['cls.predictions.decoder.weight', 'cls.predictions.transform.LayerNorm.weight', 'cls.seq_relationship.weight', 'cls.predictions.transform.LayerNorm.bias', 'cls.predictions.decoder.bias', 'cls.predictions.transform.dense.weight', 'cls.predictions.bias', 'cls.seq_relationship.bias', 'cls.predictions.transform.dense.bias']\n",
      "- This IS expected if you are initializing BertModel from the checkpoint of a model trained on another task or with another architecture (e.g. initializing a BertForSequenceClassification model from a BertForPreTraining model).\n",
      "- This IS NOT expected if you are initializing BertModel from the checkpoint of a model that you expect to be exactly identical (initializing a BertForSequenceClassification model from a BertForSequenceClassification model).\n",
      "GPU available: True, used: True\n",
      "TPU available: False, using: 0 TPU cores\n",
      "IPU available: False, using: 0 IPUs\n",
      "HPU available: False, using: 0 HPUs\n",
      "/home/ben/miniconda3/envs/rl/lib/python3.9/site-packages/pytorch_lightning/trainer/configuration_validator.py:133: UserWarning: You defined a `validation_step` but have no `val_dataloader`. Skipping val loop.\n",
      "  rank_zero_warn(\"You defined a `validation_step` but have no `val_dataloader`. Skipping val loop.\")\n"
     ]
    },
    {
     "data": {
      "application/vnd.jupyter.widget-view+json": {
       "model_id": "887ed171ec904a959bbba966b3a204af",
       "version_major": 2,
       "version_minor": 0
      },
      "text/plain": [
       "  0%|          | 0/9 [00:00<?, ?ba/s]"
      ]
     },
     "metadata": {},
     "output_type": "display_data"
    },
    {
     "data": {
      "application/vnd.jupyter.widget-view+json": {
       "model_id": "4516db3a27d14685865ba56a7dbaf472",
       "version_major": 2,
       "version_minor": 0
      },
      "text/plain": [
       "  0%|          | 0/2 [00:00<?, ?ba/s]"
      ]
     },
     "metadata": {},
     "output_type": "display_data"
    },
    {
     "name": "stderr",
     "output_type": "stream",
     "text": [
      "/home/ben/miniconda3/envs/rl/lib/python3.9/site-packages/pytorch_lightning/callbacks/model_checkpoint.py:611: UserWarning: Checkpoint directory /home/ben/mlops/models exists and is not empty.\n",
      "  rank_zero_warn(f\"Checkpoint directory {dirpath} exists and is not empty.\")\n",
      "LOCAL_RANK: 0 - CUDA_VISIBLE_DEVICES: [0]\n",
      "\n",
      "  | Name        | Type      | Params\n",
      "------------------------------------------\n",
      "0 | lm          | BertModel | 4.4 M \n",
      "1 | final_layer | Linear    | 258   \n",
      "------------------------------------------\n",
      "4.4 M     Trainable params\n",
      "0         Non-trainable params\n",
      "4.4 M     Total params\n",
      "17.545    Total estimated model params size (MB)\n",
      "2022-05-16 21:58:22.938148: W tensorflow/stream_executor/platform/default/dso_loader.cc:64] Could not load dynamic library 'libcudart.so.11.0'; dlerror: libcudart.so.11.0: cannot open shared object file: No such file or directory\n",
      "2022-05-16 21:58:22.938170: I tensorflow/stream_executor/cuda/cudart_stub.cc:29] Ignore above cudart dlerror if you do not have a GPU set up on your machine.\n",
      "/home/ben/miniconda3/envs/rl/lib/python3.9/site-packages/pytorch_lightning/trainer/connectors/data_connector.py:240: PossibleUserWarning: The dataloader, train_dataloader, does not have many workers which may be a bottleneck. Consider increasing the value of the `num_workers` argument` (try 16 which is the number of cpus on this machine) in the `DataLoader` init to improve performance.\n",
      "  rank_zero_warn(\n"
     ]
    },
    {
     "data": {
      "application/vnd.jupyter.widget-view+json": {
       "model_id": "ac5efe38e430474bb99b61dc0527c861",
       "version_major": 2,
       "version_minor": 0
      },
      "text/plain": [
       "Training: 0it [00:00, ?it/s]"
      ]
     },
     "metadata": {},
     "output_type": "display_data"
    },
    {
     "name": "stderr",
     "output_type": "stream",
     "text": [
      "/home/ben/miniconda3/envs/rl/lib/python3.9/site-packages/pytorch_lightning/callbacks/model_checkpoint.py:378: UserWarning: `ModelCheckpoint(monitor='valid_loss')` could not find the monitored key in the returned metrics: ['train_loss', 'epoch', 'step']. HINT: Did you call `log('valid_loss', value)` in the `LightningModule`?\n",
      "  warning_cache.warn(m)\n"
     ]
    }
   ],
   "source": [
    "model_name = \"google/bert_uncased_L-2_H-128_A-2\"\n",
    "cola_data = COLADataModule(model_name=model_name)\n",
    "cola_model = COLAModel(model_name=model_name)\n",
    "checkpoint_callback = pl.callbacks.ModelCheckpoint(\n",
    "    dirpath=\"./models\", monitor=\"train_loss\", mode=\"min\"\n",
    ")\n",
    "\n",
    "trainer = pl.Trainer(\n",
    "    default_root_dir=\"logs\",\n",
    "    logger=pl.loggers.TensorBoardLogger(\"logs/\", name=\"cola\", version=1),\n",
    "    gpus=(1 if torch.cuda.is_available() else 0),\n",
    "    max_epochs=5,\n",
    "    fast_dev_run=False,\n",
    "    callbacks=[checkpoint_callback]\n",
    ")\n",
    "trainer.fit(cola_model, cola_data)\n"
   ]
  },
  {
   "cell_type": "code",
   "execution_count": 7,
   "id": "4fc73e7d",
   "metadata": {},
   "outputs": [],
   "source": [
    "class COLAPredictor:\n",
    "    \n",
    "    def __init__(self, model_path):\n",
    "        self.model_path = model_path\n",
    "        self.model = COLAModel.load_from_checkpoint(model_path)\n",
    "        self.model.eval()\n",
    "        self.model.freeze()\n",
    "        self.processor = COLADataModule(model_name=model_name)\n",
    "        self.softmax = torch.nn.Softmax(dim=0)\n",
    "        self.labels = [\"unacceptable\", \"acceptable\"]\n",
    "        \n",
    "    def predict(self, text):\n",
    "        inference_sample = {\"sentence\": text}\n",
    "        processed = self.processor.tokenize(inference_sample)\n",
    "        logits = self.model(\n",
    "            torch.tensor([processed[\"input_ids\"]]),\n",
    "            torch.tensor([processed[\"attention_mask\"]]),\n",
    "        )\n",
    "        scores = self.softmax(logits[0]).tolist()\n",
    "        predictions = []\n",
    "        for score, label in zip(scores, self.labels):\n",
    "            predictions.append({\"label\": label, \"score\": score})\n",
    "        return predictions"
   ]
  },
  {
   "cell_type": "code",
   "execution_count": 8,
   "id": "30bb82a7",
   "metadata": {},
   "outputs": [
    {
     "name": "stderr",
     "output_type": "stream",
     "text": [
      "Some weights of the model checkpoint at google/bert_uncased_L-2_H-128_A-2 were not used when initializing BertModel: ['cls.predictions.decoder.weight', 'cls.predictions.transform.LayerNorm.weight', 'cls.seq_relationship.weight', 'cls.predictions.transform.LayerNorm.bias', 'cls.predictions.decoder.bias', 'cls.predictions.transform.dense.weight', 'cls.predictions.bias', 'cls.seq_relationship.bias', 'cls.predictions.transform.dense.bias']\n",
      "- This IS expected if you are initializing BertModel from the checkpoint of a model trained on another task or with another architecture (e.g. initializing a BertForSequenceClassification model from a BertForPreTraining model).\n",
      "- This IS NOT expected if you are initializing BertModel from the checkpoint of a model that you expect to be exactly identical (initializing a BertForSequenceClassification model from a BertForSequenceClassification model).\n",
      "Reusing dataset glue (/home/ben/.cache/huggingface/datasets/glue/cola/1.0.0/dacbe3125aa31d7f70367a07a8a9e72a5a0bfeb5fc42e75c9db75b96da6053ad)\n"
     ]
    },
    {
     "data": {
      "application/vnd.jupyter.widget-view+json": {
       "model_id": "18f564022ec94b89912601f186c64b62",
       "version_major": 2,
       "version_minor": 0
      },
      "text/plain": [
       "  0%|          | 0/3 [00:00<?, ?it/s]"
      ]
     },
     "metadata": {},
     "output_type": "display_data"
    },
    {
     "data": {
      "text/plain": [
       "[{'label': 'unacceptable', 'score': 0.254064679145813},\n",
       " {'label': 'acceptable', 'score': 0.745935320854187}]"
      ]
     },
     "execution_count": 8,
     "metadata": {},
     "output_type": "execute_result"
    }
   ],
   "source": [
    "predictor = COLAPredictor(\"models/epoch=1-step=536.ckpt\")\n",
    "predictor.predict(\"Thiasdfs iasdfs asdf asdfasentence.\")"
   ]
  },
  {
   "cell_type": "code",
   "execution_count": 9,
   "id": "f80a0ffb",
   "metadata": {},
   "outputs": [
    {
     "data": {
      "text/plain": [
       "<__main__.COLADataModule at 0x7fb7df990a30>"
      ]
     },
     "execution_count": 9,
     "metadata": {},
     "output_type": "execute_result"
    }
   ],
   "source": [
    "cola_data"
   ]
  },
  {
   "cell_type": "code",
   "execution_count": null,
   "id": "84367ca9",
   "metadata": {},
   "outputs": [],
   "source": []
  }
 ],
 "metadata": {
  "kernelspec": {
   "display_name": "Python 3 (ipykernel)",
   "language": "python",
   "name": "python3"
  },
  "language_info": {
   "codemirror_mode": {
    "name": "ipython",
    "version": 3
   },
   "file_extension": ".py",
   "mimetype": "text/x-python",
   "name": "python",
   "nbconvert_exporter": "python",
   "pygments_lexer": "ipython3",
   "version": "3.9.7"
  }
 },
 "nbformat": 4,
 "nbformat_minor": 5
}
